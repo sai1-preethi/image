{
 "cells": [
  {
   "cell_type": "code",
   "execution_count": 2,
   "id": "90eee91a-2b70-4755-9fb4-f64e4d1a4728",
   "metadata": {},
   "outputs": [
    {
     "name": "stdout",
     "output_type": "stream",
     "text": [
      "Collecting opencv-python\n",
      "  Using cached opencv_python-4.10.0.84-cp37-abi3-win_amd64.whl.metadata (20 kB)\n",
      "Requirement already satisfied: numpy>=1.21.2 in c:\\users\\lenovo\\appdata\\local\\programs\\python\\python312\\lib\\site-packages (from opencv-python) (2.0.2)\n",
      "Downloading opencv_python-4.10.0.84-cp37-abi3-win_amd64.whl (38.8 MB)\n",
      "   ---------------------------------------- 0.0/38.8 MB ? eta -:--:--\n",
      "   ---------------------------------------- 0.0/38.8 MB ? eta -:--:--\n",
      "   ---------------------------------------- 0.3/38.8 MB ? eta -:--:--\n",
      "    --------------------------------------- 0.5/38.8 MB 1.4 MB/s eta 0:00:28\n",
      "    --------------------------------------- 0.8/38.8 MB 1.3 MB/s eta 0:00:29\n",
      "   - -------------------------------------- 1.3/38.8 MB 1.6 MB/s eta 0:00:24\n",
      "   - -------------------------------------- 1.6/38.8 MB 1.5 MB/s eta 0:00:25\n",
      "   - -------------------------------------- 1.8/38.8 MB 1.5 MB/s eta 0:00:24\n",
      "   -- ------------------------------------- 2.1/38.8 MB 1.6 MB/s eta 0:00:24\n",
      "   -- ------------------------------------- 2.4/38.8 MB 1.6 MB/s eta 0:00:24\n",
      "   -- ------------------------------------- 2.9/38.8 MB 1.6 MB/s eta 0:00:24\n",
      "   --- ------------------------------------ 3.4/38.8 MB 1.7 MB/s eta 0:00:21\n",
      "   --- ------------------------------------ 3.7/38.8 MB 1.7 MB/s eta 0:00:21\n",
      "   ---- ----------------------------------- 4.2/38.8 MB 1.7 MB/s eta 0:00:21\n",
      "   ---- ----------------------------------- 4.5/38.8 MB 1.7 MB/s eta 0:00:20\n",
      "   ---- ----------------------------------- 4.7/38.8 MB 1.7 MB/s eta 0:00:20\n",
      "   ----- ---------------------------------- 5.0/38.8 MB 1.7 MB/s eta 0:00:20\n",
      "   ----- ---------------------------------- 5.2/38.8 MB 1.7 MB/s eta 0:00:21\n",
      "   ----- ---------------------------------- 5.5/38.8 MB 1.6 MB/s eta 0:00:21\n",
      "   ------ --------------------------------- 6.0/38.8 MB 1.6 MB/s eta 0:00:21\n",
      "   ------ --------------------------------- 6.6/38.8 MB 1.7 MB/s eta 0:00:20\n",
      "   ------- -------------------------------- 7.3/38.8 MB 1.8 MB/s eta 0:00:18\n",
      "   -------- ------------------------------- 7.9/38.8 MB 1.8 MB/s eta 0:00:18\n",
      "   -------- ------------------------------- 8.4/38.8 MB 1.8 MB/s eta 0:00:17\n",
      "   --------- ------------------------------ 8.9/38.8 MB 1.9 MB/s eta 0:00:17\n",
      "   --------- ------------------------------ 9.2/38.8 MB 1.9 MB/s eta 0:00:17\n",
      "   --------- ------------------------------ 9.7/38.8 MB 1.9 MB/s eta 0:00:16\n",
      "   ---------- ----------------------------- 10.2/38.8 MB 1.9 MB/s eta 0:00:16\n",
      "   ---------- ----------------------------- 10.5/38.8 MB 1.9 MB/s eta 0:00:16\n",
      "   ---------- ----------------------------- 10.5/38.8 MB 1.9 MB/s eta 0:00:16\n",
      "   ----------- ---------------------------- 10.7/38.8 MB 1.8 MB/s eta 0:00:16\n",
      "   ----------- ---------------------------- 11.3/38.8 MB 1.8 MB/s eta 0:00:16\n",
      "   ------------ --------------------------- 11.8/38.8 MB 1.8 MB/s eta 0:00:15\n",
      "   ------------ --------------------------- 12.1/38.8 MB 1.8 MB/s eta 0:00:15\n",
      "   ------------ --------------------------- 12.3/38.8 MB 1.8 MB/s eta 0:00:15\n",
      "   ------------ --------------------------- 12.6/38.8 MB 1.8 MB/s eta 0:00:15\n",
      "   ------------ --------------------------- 12.6/38.8 MB 1.8 MB/s eta 0:00:15\n",
      "   ------------- -------------------------- 12.8/38.8 MB 1.7 MB/s eta 0:00:16\n",
      "   ------------- -------------------------- 13.4/38.8 MB 1.7 MB/s eta 0:00:15\n",
      "   -------------- ------------------------- 13.6/38.8 MB 1.7 MB/s eta 0:00:15\n",
      "   -------------- ------------------------- 14.2/38.8 MB 1.7 MB/s eta 0:00:15\n",
      "   -------------- ------------------------- 14.4/38.8 MB 1.7 MB/s eta 0:00:15\n",
      "   --------------- ------------------------ 14.7/38.8 MB 1.7 MB/s eta 0:00:15\n",
      "   --------------- ------------------------ 15.2/38.8 MB 1.7 MB/s eta 0:00:14\n",
      "   --------------- ------------------------ 15.5/38.8 MB 1.7 MB/s eta 0:00:14\n",
      "   ---------------- ----------------------- 15.7/38.8 MB 1.7 MB/s eta 0:00:14\n",
      "   ---------------- ----------------------- 16.0/38.8 MB 1.7 MB/s eta 0:00:14\n",
      "   ----------------- ---------------------- 16.5/38.8 MB 1.7 MB/s eta 0:00:14\n",
      "   ----------------- ---------------------- 17.0/38.8 MB 1.7 MB/s eta 0:00:13\n",
      "   ------------------ --------------------- 17.6/38.8 MB 1.7 MB/s eta 0:00:13\n",
      "   ------------------ --------------------- 18.4/38.8 MB 1.8 MB/s eta 0:00:12\n",
      "   ------------------- -------------------- 18.6/38.8 MB 1.8 MB/s eta 0:00:12\n",
      "   ------------------- -------------------- 19.1/38.8 MB 1.8 MB/s eta 0:00:12\n",
      "   ------------------- -------------------- 19.1/38.8 MB 1.8 MB/s eta 0:00:12\n",
      "   -------------------- ------------------- 19.7/38.8 MB 1.8 MB/s eta 0:00:11\n",
      "   -------------------- ------------------- 19.9/38.8 MB 1.8 MB/s eta 0:00:11\n",
      "   -------------------- ------------------- 20.2/38.8 MB 1.8 MB/s eta 0:00:11\n",
      "   --------------------- ------------------ 21.0/38.8 MB 1.8 MB/s eta 0:00:11\n",
      "   --------------------- ------------------ 21.2/38.8 MB 1.8 MB/s eta 0:00:10\n",
      "   ---------------------- ----------------- 21.5/38.8 MB 1.8 MB/s eta 0:00:10\n",
      "   ---------------------- ----------------- 21.8/38.8 MB 1.8 MB/s eta 0:00:10\n",
      "   ---------------------- ----------------- 22.0/38.8 MB 1.7 MB/s eta 0:00:10\n",
      "   ---------------------- ----------------- 22.3/38.8 MB 1.7 MB/s eta 0:00:10\n",
      "   ----------------------- ---------------- 22.5/38.8 MB 1.7 MB/s eta 0:00:10\n",
      "   ----------------------- ---------------- 23.1/38.8 MB 1.7 MB/s eta 0:00:10\n",
      "   ------------------------ --------------- 23.3/38.8 MB 1.7 MB/s eta 0:00:09\n",
      "   ------------------------ --------------- 23.6/38.8 MB 1.7 MB/s eta 0:00:09\n",
      "   ------------------------ --------------- 23.9/38.8 MB 1.7 MB/s eta 0:00:09\n",
      "   ------------------------ --------------- 24.1/38.8 MB 1.7 MB/s eta 0:00:09\n",
      "   ------------------------ --------------- 24.1/38.8 MB 1.7 MB/s eta 0:00:09\n",
      "   ------------------------- -------------- 24.4/38.8 MB 1.7 MB/s eta 0:00:09\n",
      "   ------------------------- -------------- 24.6/38.8 MB 1.7 MB/s eta 0:00:09\n",
      "   ------------------------- -------------- 24.9/38.8 MB 1.7 MB/s eta 0:00:09\n",
      "   ------------------------- -------------- 25.2/38.8 MB 1.7 MB/s eta 0:00:09\n",
      "   ------------------------- -------------- 25.2/38.8 MB 1.7 MB/s eta 0:00:09\n",
      "   -------------------------- ------------- 25.4/38.8 MB 1.6 MB/s eta 0:00:09\n",
      "   -------------------------- ------------- 25.4/38.8 MB 1.6 MB/s eta 0:00:09\n",
      "   -------------------------- ------------- 25.7/38.8 MB 1.6 MB/s eta 0:00:09\n",
      "   -------------------------- ------------- 26.2/38.8 MB 1.6 MB/s eta 0:00:08\n",
      "   --------------------------- ------------ 26.5/38.8 MB 1.6 MB/s eta 0:00:08\n",
      "   --------------------------- ------------ 26.5/38.8 MB 1.6 MB/s eta 0:00:08\n",
      "   --------------------------- ------------ 27.0/38.8 MB 1.6 MB/s eta 0:00:08\n",
      "   --------------------------- ------------ 27.0/38.8 MB 1.6 MB/s eta 0:00:08\n",
      "   ---------------------------- ----------- 27.3/38.8 MB 1.6 MB/s eta 0:00:08\n",
      "   ---------------------------- ----------- 27.5/38.8 MB 1.6 MB/s eta 0:00:08\n",
      "   ---------------------------- ----------- 27.8/38.8 MB 1.6 MB/s eta 0:00:08\n",
      "   ---------------------------- ----------- 28.0/38.8 MB 1.6 MB/s eta 0:00:07\n",
      "   ----------------------------- ---------- 28.3/38.8 MB 1.6 MB/s eta 0:00:07\n",
      "   ----------------------------- ---------- 28.6/38.8 MB 1.6 MB/s eta 0:00:07\n",
      "   ----------------------------- ---------- 28.8/38.8 MB 1.5 MB/s eta 0:00:07\n",
      "   ----------------------------- ---------- 28.8/38.8 MB 1.5 MB/s eta 0:00:07\n",
      "   ----------------------------- ---------- 29.1/38.8 MB 1.5 MB/s eta 0:00:07\n",
      "   ------------------------------ --------- 29.4/38.8 MB 1.5 MB/s eta 0:00:07\n",
      "   ------------------------------ --------- 29.6/38.8 MB 1.5 MB/s eta 0:00:07\n",
      "   ------------------------------ --------- 29.9/38.8 MB 1.5 MB/s eta 0:00:06\n",
      "   ------------------------------- -------- 30.1/38.8 MB 1.5 MB/s eta 0:00:06\n",
      "   ------------------------------- -------- 30.1/38.8 MB 1.5 MB/s eta 0:00:06\n",
      "   ------------------------------- -------- 30.7/38.8 MB 1.5 MB/s eta 0:00:06\n",
      "   ------------------------------- -------- 30.7/38.8 MB 1.5 MB/s eta 0:00:06\n",
      "   ------------------------------- -------- 30.9/38.8 MB 1.5 MB/s eta 0:00:06\n",
      "   -------------------------------- ------- 31.2/38.8 MB 1.5 MB/s eta 0:00:06\n",
      "   -------------------------------- ------- 31.5/38.8 MB 1.5 MB/s eta 0:00:05\n",
      "   -------------------------------- ------- 31.7/38.8 MB 1.5 MB/s eta 0:00:05\n",
      "   -------------------------------- ------- 32.0/38.8 MB 1.5 MB/s eta 0:00:05\n",
      "   --------------------------------- ------ 32.2/38.8 MB 1.5 MB/s eta 0:00:05\n",
      "   --------------------------------- ------ 32.2/38.8 MB 1.5 MB/s eta 0:00:05\n",
      "   --------------------------------- ------ 32.5/38.8 MB 1.5 MB/s eta 0:00:05\n",
      "   --------------------------------- ------ 32.8/38.8 MB 1.5 MB/s eta 0:00:05\n",
      "   ---------------------------------- ----- 33.0/38.8 MB 1.5 MB/s eta 0:00:04\n",
      "   ---------------------------------- ----- 33.6/38.8 MB 1.5 MB/s eta 0:00:04\n",
      "   ----------------------------------- ---- 34.1/38.8 MB 1.5 MB/s eta 0:00:04\n",
      "   ----------------------------------- ---- 34.3/38.8 MB 1.5 MB/s eta 0:00:04\n",
      "   ----------------------------------- ---- 34.6/38.8 MB 1.5 MB/s eta 0:00:03\n",
      "   ----------------------------------- ---- 34.9/38.8 MB 1.5 MB/s eta 0:00:03\n",
      "   ------------------------------------ --- 35.1/38.8 MB 1.5 MB/s eta 0:00:03\n",
      "   ------------------------------------ --- 35.7/38.8 MB 1.5 MB/s eta 0:00:03\n",
      "   ------------------------------------ --- 35.9/38.8 MB 1.5 MB/s eta 0:00:02\n",
      "   ------------------------------------- -- 36.2/38.8 MB 1.5 MB/s eta 0:00:02\n",
      "   ------------------------------------- -- 36.7/38.8 MB 1.5 MB/s eta 0:00:02\n",
      "   -------------------------------------- - 37.0/38.8 MB 1.5 MB/s eta 0:00:02\n",
      "   -------------------------------------- - 37.2/38.8 MB 1.5 MB/s eta 0:00:02\n",
      "   -------------------------------------- - 37.7/38.8 MB 1.5 MB/s eta 0:00:01\n",
      "   ---------------------------------------  38.0/38.8 MB 1.5 MB/s eta 0:00:01\n",
      "   ---------------------------------------  38.3/38.8 MB 1.5 MB/s eta 0:00:01\n",
      "   ---------------------------------------  38.5/38.8 MB 1.5 MB/s eta 0:00:01\n",
      "   ---------------------------------------  38.8/38.8 MB 1.5 MB/s eta 0:00:01\n",
      "   ---------------------------------------- 38.8/38.8 MB 1.5 MB/s eta 0:00:00\n",
      "Installing collected packages: opencv-python\n",
      "Successfully installed opencv-python-4.10.0.84\n"
     ]
    },
    {
     "name": "stderr",
     "output_type": "stream",
     "text": [
      "\n",
      "[notice] A new release of pip is available: 24.2 -> 24.3.1\n",
      "[notice] To update, run: python.exe -m pip install --upgrade pip\n"
     ]
    }
   ],
   "source": [
    "!pip install opencv-python"
   ]
  },
  {
   "cell_type": "code",
   "execution_count": 13,
   "id": "b19740ae-f6e1-44ef-8c8b-2baf49214cfc",
   "metadata": {},
   "outputs": [],
   "source": [
    "import cv2"
   ]
  },
  {
   "cell_type": "code",
   "execution_count": 14,
   "id": "728e9aa1-a207-4624-9b10-719dd00b818f",
   "metadata": {},
   "outputs": [],
   "source": [
    "import numpy as np"
   ]
  },
  {
   "cell_type": "code",
   "execution_count": 15,
   "id": "640687dd-1f2d-4015-a6fc-037b3f1fc19e",
   "metadata": {},
   "outputs": [],
   "source": [
    "img=cv2.imread(r\"C:\\Users\\Lenovo\\Pictures\\Screenshots\\Screenshot 2024-11-13 200637.png\")"
   ]
  },
  {
   "cell_type": "code",
   "execution_count": 16,
   "id": "92f43d07-8fac-49c8-8190-12d9a213b88e",
   "metadata": {},
   "outputs": [
    {
     "data": {
      "text/plain": [
       "(480, 1206, 3)"
      ]
     },
     "execution_count": 16,
     "metadata": {},
     "output_type": "execute_result"
    }
   ],
   "source": [
    "img.shape"
   ]
  },
  {
   "cell_type": "code",
   "execution_count": 17,
   "id": "1c152660-9b86-4fe7-a183-d8645c7c240a",
   "metadata": {},
   "outputs": [
    {
     "data": {
      "text/plain": [
       "dtype('uint8')"
      ]
     },
     "execution_count": 17,
     "metadata": {},
     "output_type": "execute_result"
    }
   ],
   "source": [
    "img.dtype"
   ]
  },
  {
   "cell_type": "code",
   "execution_count": 18,
   "id": "ca5152f4-eade-4863-adac-d4351ed86b89",
   "metadata": {},
   "outputs": [],
   "source": [
    "img=cv2.imread(r\"C:\\Users\\Lenovo\\Pictures\\Screenshots\\Screenshot 2024-11-13 200637.png\",flags=1) # 3d array"
   ]
  },
  {
   "cell_type": "code",
   "execution_count": 19,
   "id": "62cba127-7431-4518-99e0-23935a49ff58",
   "metadata": {},
   "outputs": [
    {
     "data": {
      "text/plain": [
       "array([[[255, 255, 255],\n",
       "        [255, 255, 255],\n",
       "        [255, 255, 255],\n",
       "        ...,\n",
       "        [255, 255, 255],\n",
       "        [255, 255, 255],\n",
       "        [255, 255, 255]],\n",
       "\n",
       "       [[255, 255, 255],\n",
       "        [255, 255, 255],\n",
       "        [255, 255, 255],\n",
       "        ...,\n",
       "        [255, 255, 255],\n",
       "        [255, 255, 255],\n",
       "        [255, 255, 255]],\n",
       "\n",
       "       [[255, 255, 255],\n",
       "        [255, 255, 255],\n",
       "        [255, 255, 255],\n",
       "        ...,\n",
       "        [255, 255, 255],\n",
       "        [255, 255, 255],\n",
       "        [255, 255, 255]],\n",
       "\n",
       "       ...,\n",
       "\n",
       "       [[255, 255, 255],\n",
       "        [255, 255, 255],\n",
       "        [255, 255, 255],\n",
       "        ...,\n",
       "        [255, 255, 255],\n",
       "        [255, 255, 255],\n",
       "        [255, 255, 255]],\n",
       "\n",
       "       [[255, 255, 255],\n",
       "        [255, 255, 255],\n",
       "        [255, 255, 255],\n",
       "        ...,\n",
       "        [255, 255, 255],\n",
       "        [255, 255, 255],\n",
       "        [255, 255, 255]],\n",
       "\n",
       "       [[255, 255, 255],\n",
       "        [255, 255, 255],\n",
       "        [255, 255, 255],\n",
       "        ...,\n",
       "        [255, 255, 255],\n",
       "        [255, 255, 255],\n",
       "        [255, 255, 255]]], dtype=uint8)"
      ]
     },
     "execution_count": 19,
     "metadata": {},
     "output_type": "execute_result"
    }
   ],
   "source": [
    "img"
   ]
  },
  {
   "cell_type": "code",
   "execution_count": 20,
   "id": "b856c2b8-6290-4cc3-8c89-75aad1333967",
   "metadata": {},
   "outputs": [],
   "source": [
    "img1=cv2.imread(r\"C:\\Users\\Lenovo\\Pictures\\Screenshots\\Screenshot 2024-11-13 200637.png\",flags=0) # 2d array"
   ]
  },
  {
   "cell_type": "code",
   "execution_count": 21,
   "id": "4a8375db-e052-4dc6-b9cb-fb294f2a5073",
   "metadata": {},
   "outputs": [
    {
     "data": {
      "text/plain": [
       "dtype('uint8')"
      ]
     },
     "execution_count": 21,
     "metadata": {},
     "output_type": "execute_result"
    }
   ],
   "source": [
    "img1.dtype"
   ]
  },
  {
   "cell_type": "code",
   "execution_count": 22,
   "id": "4e64e7aa-0ad6-4493-bd91-ec0cc5017aed",
   "metadata": {},
   "outputs": [
    {
     "data": {
      "text/plain": [
       "(480, 1206)"
      ]
     },
     "execution_count": 22,
     "metadata": {},
     "output_type": "execute_result"
    }
   ],
   "source": [
    "img1.shape"
   ]
  },
  {
   "cell_type": "code",
   "execution_count": 23,
   "id": "eaaea6cb-a566-4be1-996e-3f089d20668f",
   "metadata": {},
   "outputs": [
    {
     "data": {
      "text/plain": [
       "array([[255, 255, 255, ..., 255, 255, 255],\n",
       "       [255, 255, 255, ..., 255, 255, 255],\n",
       "       [255, 255, 255, ..., 255, 255, 255],\n",
       "       ...,\n",
       "       [255, 255, 255, ..., 255, 255, 255],\n",
       "       [255, 255, 255, ..., 255, 255, 255],\n",
       "       [255, 255, 255, ..., 255, 255, 255]], dtype=uint8)"
      ]
     },
     "execution_count": 23,
     "metadata": {},
     "output_type": "execute_result"
    }
   ],
   "source": [
    "img1"
   ]
  },
  {
   "cell_type": "code",
   "execution_count": null,
   "id": "524fe488-1809-4f91-ad72-51d114601774",
   "metadata": {},
   "outputs": [],
   "source": [
    "white_img=np.full((400,400),255,dtype=np.uint8)\n",
    "black_img=np.zeros((400,400),dtype=np.uint8)\n"
   ]
  },
  {
   "cell_type": "code",
   "execution_count": null,
   "id": "c9d0d329-b6dc-4674-8d2c-58c85689aa38",
   "metadata": {},
   "outputs": [],
   "source": [
    "cv2.imshow(\"white\",white_img)\n",
    "cv2.imshow(\"black\",black_img)\n",
    "\n",
    "cv2.waitKey(0)  # 0 and no values means infinite delay to close X buyyon\n",
    "\n",
    "cv2.destroyAllWindows()"
   ]
  },
  {
   "cell_type": "code",
   "execution_count": null,
   "id": "445c1ffc-789a-44b6-9dbf-8d2fc4999bdf",
   "metadata": {},
   "outputs": [],
   "source": [
    "b=np.zeros((500,500),dtype=np.uint8)\n",
    "g=np.zeros((500,500),dtype=np.uint8)\n",
    "r=np.full((500,500),255,dtype=np.uint8)\n",
    "\n",
    "color_img=cv2.merge([b,g,r])"
   ]
  },
  {
   "cell_type": "code",
   "execution_count": null,
   "id": "e27cc6a7-00df-4f8c-9c58-92fcd0f7394f",
   "metadata": {},
   "outputs": [],
   "source": [
    "b=np.zeros((500,500),255,dtype=np.uint8)\n",
    "g=np.zeros((500,500),dtype=np.uint8)\n",
    "r=np.full((500,500),dtype=np.uint8)\n",
    "\n",
    "color_img1=cv2.merge([b,g,r])"
   ]
  },
  {
   "cell_type": "code",
   "execution_count": null,
   "id": "a0a7d081-655b-47ef-bf97-ef02bae75620",
   "metadata": {},
   "outputs": [],
   "source": [
    "b=np.zeros((500,500),dtype=np.uint8)\n",
    "g=np.zeros((500,500),dtype=np.uint8)\n",
    "r=np.full((500,500),255,dtype=np.uint8)\n",
    "\n",
    "color_img3=cv2.merge([b,g,r])"
   ]
  },
  {
   "cell_type": "code",
   "execution_count": null,
   "id": "0e60938b-4846-45c2-8ec1-a7b9d34508d7",
   "metadata": {},
   "outputs": [],
   "source": [
    "color_img1=cv2.merge([b,g,r])"
   ]
  },
  {
   "cell_type": "code",
   "execution_count": null,
   "id": "0385c92d-e0cb-4edc-9ea6-77f3cc355a78",
   "metadata": {},
   "outputs": [],
   "source": [
    "color_img=cv2.merge([b,g,r])"
   ]
  },
  {
   "cell_type": "code",
   "execution_count": null,
   "id": "1403e62e-139a-46d5-886b-94f5c0152b76",
   "metadata": {},
   "outputs": [],
   "source": [
    "color_img3=cv2.merge([b,g,r])"
   ]
  },
  {
   "cell_type": "code",
   "execution_count": null,
   "id": "ec9afe29-b3be-4e87-8348-40bab9c01a25",
   "metadata": {},
   "outputs": [],
   "source": [
    "color_img.shape"
   ]
  },
  {
   "cell_type": "code",
   "execution_count": null,
   "id": "e70ff8e4-9c94-40df-a7b3-00d3b514ad23",
   "metadata": {},
   "outputs": [],
   "source": [
    "cv2.imshow(\"r\",color_img)\n",
    "cv2.imshow(\"b\",color_img1)\n",
    "cv2.imshow(\"g\",color_img3)\n",
    "cv2.wait.key(0)\n",
    "\n",
    "cv2.destroyAllWindows()"
   ]
  },
  {
   "cell_type": "code",
   "execution_count": 10,
   "id": "0b30f18f-d164-43b5-91d4-795b2729b8a2",
   "metadata": {},
   "outputs": [],
   "source": [
    "import cv2"
   ]
  },
  {
   "cell_type": "markdown",
   "id": "2e55e60e-ec7a-4702-9737-733409c45f26",
   "metadata": {},
   "source": [
    "# Coverting different images to tabular format"
   ]
  },
  {
   "cell_type": "code",
   "execution_count": 5,
   "id": "5e5ad814-8d6e-420c-9c3e-f86a79948d76",
   "metadata": {},
   "outputs": [
    {
     "name": "stdout",
     "output_type": "stream",
     "text": [
      "Requirement already satisfied: kagglehub in c:\\users\\lenovo\\appdata\\local\\programs\\python\\python312\\lib\\site-packages (0.3.4)\n",
      "Requirement already satisfied: packaging in c:\\users\\lenovo\\appdata\\local\\programs\\python\\python312\\lib\\site-packages (from kagglehub) (24.1)\n",
      "Requirement already satisfied: requests in c:\\users\\lenovo\\appdata\\local\\programs\\python\\python312\\lib\\site-packages (from kagglehub) (2.32.3)\n",
      "Requirement already satisfied: tqdm in c:\\users\\lenovo\\appdata\\local\\programs\\python\\python312\\lib\\site-packages (from kagglehub) (4.66.5)\n",
      "Requirement already satisfied: charset-normalizer<4,>=2 in c:\\users\\lenovo\\appdata\\local\\programs\\python\\python312\\lib\\site-packages (from requests->kagglehub) (3.3.2)\n",
      "Requirement already satisfied: idna<4,>=2.5 in c:\\users\\lenovo\\appdata\\local\\programs\\python\\python312\\lib\\site-packages (from requests->kagglehub) (3.7)\n",
      "Requirement already satisfied: urllib3<3,>=1.21.1 in c:\\users\\lenovo\\appdata\\local\\programs\\python\\python312\\lib\\site-packages (from requests->kagglehub) (2.2.2)\n",
      "Requirement already satisfied: certifi>=2017.4.17 in c:\\users\\lenovo\\appdata\\local\\programs\\python\\python312\\lib\\site-packages (from requests->kagglehub) (2024.7.4)\n",
      "Requirement already satisfied: colorama in c:\\users\\lenovo\\appdata\\local\\programs\\python\\python312\\lib\\site-packages (from tqdm->kagglehub) (0.4.6)\n"
     ]
    },
    {
     "name": "stderr",
     "output_type": "stream",
     "text": [
      "\n",
      "[notice] A new release of pip is available: 24.2 -> 24.3.1\n",
      "[notice] To update, run: python.exe -m pip install --upgrade pip\n"
     ]
    }
   ],
   "source": [
    "! pip install kagglehub"
   ]
  },
  {
   "cell_type": "code",
   "execution_count": 2,
   "id": "bf32c6d0-47d3-472c-b00f-80925c4f22b4",
   "metadata": {},
   "outputs": [],
   "source": [
    "import kagglehub"
   ]
  },
  {
   "cell_type": "code",
   "execution_count": 3,
   "id": "51da7241-646f-4de0-976c-3661c31b6817",
   "metadata": {},
   "outputs": [
    {
     "name": "stdout",
     "output_type": "stream",
     "text": [
      "Downloading from https://www.kaggle.com/api/v1/datasets/download/rahmasleam/flowers-dataset?dataset_version_number=1...\n"
     ]
    },
    {
     "name": "stderr",
     "output_type": "stream",
     "text": [
      "100%|███████████████████████████████████████████████████████████████████████████████| 219M/219M [00:17<00:00, 12.8MB/s]"
     ]
    },
    {
     "name": "stdout",
     "output_type": "stream",
     "text": [
      "Extracting files...\n"
     ]
    },
    {
     "name": "stderr",
     "output_type": "stream",
     "text": [
      "\n"
     ]
    }
   ],
   "source": [
    "# download latest Version\n",
    "path = kagglehub.dataset_download(\"rahmasleam/flowers-dataset\")"
   ]
  },
  {
   "cell_type": "code",
   "execution_count": 4,
   "id": "e0881428-e5fc-4ba1-b768-8fa633884550",
   "metadata": {},
   "outputs": [
    {
     "data": {
      "text/plain": [
       "'C:\\\\Users\\\\Lenovo\\\\.cache\\\\kagglehub\\\\datasets\\\\rahmasleam\\\\flowers-dataset\\\\versions\\\\1'"
      ]
     },
     "execution_count": 4,
     "metadata": {},
     "output_type": "execute_result"
    }
   ],
   "source": [
    "path"
   ]
  },
  {
   "cell_type": "code",
   "execution_count": 6,
   "id": "98700945-4ed7-4237-86e6-d4102fe94307",
   "metadata": {},
   "outputs": [],
   "source": [
    "import os"
   ]
  },
  {
   "cell_type": "code",
   "execution_count": 7,
   "id": "5a330f28-9f66-4a56-83c0-81bfe454f7b5",
   "metadata": {},
   "outputs": [
    {
     "data": {
      "text/plain": [
       "['daisy', 'dandelion', 'roses', 'sunflowers', 'tulips']"
      ]
     },
     "execution_count": 7,
     "metadata": {},
     "output_type": "execute_result"
    }
   ],
   "source": [
    "folders = os.listdir(r\"C:\\Users\\Lenovo\\.cache\\kagglehub\\datasets\\rahmasleam\\flowers-dataset\\versions\\1\\flower_photos\")\n",
    "folders    "
   ]
  },
  {
   "cell_type": "code",
   "execution_count": 12,
   "id": "64fd57c7-2814-4161-83c6-80664a24b83a",
   "metadata": {},
   "outputs": [],
   "source": [
    "features=[]\n",
    "class_labels=[]\n",
    "for folder in folders:\n",
    "    for images in os.listdir(r\"C:\\Users\\Lenovo\\.cache\\kagglehub\\datasets\\rahmasleam\\flowers-dataset\\versions\\1\\flower_photos\\{}\".format(folder)):\n",
    "        img=cv2.imread(r\"C:\\Users\\Lenovo\\.cache\\kagglehub\\datasets\\rahmasleam\\flowers-dataset\\versions\\1\\flower_photos\\{}\\{}\".format(folder,images),0)# array representation\n",
    "        img=cv2.resize(img,(50,50)) # resizing the image\n",
    "        img=img.flatten() # flattening the image\n",
    "        features.append(img) # appending each flattem image in list\n",
    "        class_labels.append(folder) # appending each class label to List    \n",
    "                          "
   ]
  },
  {
   "cell_type": "code",
   "execution_count": 13,
   "id": "2eb236a1-e38a-4491-8487-c47ceb235da4",
   "metadata": {},
   "outputs": [],
   "source": [
    "img1=cv2.imread(r\"C:\\Users\\Lenovo\\.cache\\kagglehub\\datasets\\rahmasleam\\flowers-dataset\\versions\\1\\flower_photos\\daisy\\5547758_eea9edfd54_n.jpg\",0)"
   ]
  },
  {
   "cell_type": "code",
   "execution_count": 14,
   "id": "685b741b-aa16-4c24-a045-5bb91e13410a",
   "metadata": {},
   "outputs": [
    {
     "data": {
      "text/plain": [
       "(232, 320)"
      ]
     },
     "execution_count": 14,
     "metadata": {},
     "output_type": "execute_result"
    }
   ],
   "source": [
    "img1.shape"
   ]
  },
  {
   "cell_type": "code",
   "execution_count": 15,
   "id": "32d13d77-d431-43b4-a87f-4e5c6ee16b85",
   "metadata": {},
   "outputs": [],
   "source": [
    "img1=cv2.resize(img1,(50,50))"
   ]
  },
  {
   "cell_type": "code",
   "execution_count": 16,
   "id": "29a9e18e-4953-4ee3-9fd8-a063d576e6e4",
   "metadata": {},
   "outputs": [
    {
     "data": {
      "text/plain": [
       "(50, 50)"
      ]
     },
     "execution_count": 16,
     "metadata": {},
     "output_type": "execute_result"
    }
   ],
   "source": [
    "img1.shape"
   ]
  },
  {
   "cell_type": "code",
   "execution_count": 17,
   "id": "740abaa7-09bb-4f31-9772-950fa7cc92bf",
   "metadata": {},
   "outputs": [],
   "source": [
    "img1=img1.flatten()"
   ]
  },
  {
   "cell_type": "code",
   "execution_count": 18,
   "id": "dd9dd8f0-2f3d-412b-aa2b-ca2f76f7d0dc",
   "metadata": {},
   "outputs": [
    {
     "data": {
      "text/plain": [
       "(2500,)"
      ]
     },
     "execution_count": 18,
     "metadata": {},
     "output_type": "execute_result"
    }
   ],
   "source": [
    "img1.shape"
   ]
  },
  {
   "cell_type": "code",
   "execution_count": 19,
   "id": "42320bfe-fb90-42f0-afe1-692c7fedeae3",
   "metadata": {},
   "outputs": [],
   "source": [
    "import pandas as pd"
   ]
  },
  {
   "cell_type": "code",
   "execution_count": 20,
   "id": "665f9ef8-8a7c-4685-b140-2581e9e9e9c6",
   "metadata": {},
   "outputs": [],
   "source": [
    "final_data=pd.DataFrame(features)"
   ]
  },
  {
   "cell_type": "code",
   "execution_count": 21,
   "id": "cc2f9c2c-31c3-4510-8abf-a6d069f223c9",
   "metadata": {},
   "outputs": [
    {
     "data": {
      "text/plain": [
       "(3670, 2500)"
      ]
     },
     "execution_count": 21,
     "metadata": {},
     "output_type": "execute_result"
    }
   ],
   "source": [
    "final_data.shape"
   ]
  },
  {
   "cell_type": "code",
   "execution_count": 22,
   "id": "09c62cca-d842-4c1a-987c-bf8c2da9626b",
   "metadata": {},
   "outputs": [
    {
     "data": {
      "text/html": [
       "<div>\n",
       "<style scoped>\n",
       "    .dataframe tbody tr th:only-of-type {\n",
       "        vertical-align: middle;\n",
       "    }\n",
       "\n",
       "    .dataframe tbody tr th {\n",
       "        vertical-align: top;\n",
       "    }\n",
       "\n",
       "    .dataframe thead th {\n",
       "        text-align: right;\n",
       "    }\n",
       "</style>\n",
       "<table border=\"1\" class=\"dataframe\">\n",
       "  <thead>\n",
       "    <tr style=\"text-align: right;\">\n",
       "      <th></th>\n",
       "      <th>0</th>\n",
       "      <th>1</th>\n",
       "      <th>2</th>\n",
       "      <th>3</th>\n",
       "      <th>4</th>\n",
       "      <th>5</th>\n",
       "      <th>6</th>\n",
       "      <th>7</th>\n",
       "      <th>8</th>\n",
       "      <th>9</th>\n",
       "      <th>...</th>\n",
       "      <th>2490</th>\n",
       "      <th>2491</th>\n",
       "      <th>2492</th>\n",
       "      <th>2493</th>\n",
       "      <th>2494</th>\n",
       "      <th>2495</th>\n",
       "      <th>2496</th>\n",
       "      <th>2497</th>\n",
       "      <th>2498</th>\n",
       "      <th>2499</th>\n",
       "    </tr>\n",
       "  </thead>\n",
       "  <tbody>\n",
       "    <tr>\n",
       "      <th>0</th>\n",
       "      <td>143</td>\n",
       "      <td>149</td>\n",
       "      <td>160</td>\n",
       "      <td>169</td>\n",
       "      <td>167</td>\n",
       "      <td>167</td>\n",
       "      <td>145</td>\n",
       "      <td>144</td>\n",
       "      <td>144</td>\n",
       "      <td>159</td>\n",
       "      <td>...</td>\n",
       "      <td>171</td>\n",
       "      <td>174</td>\n",
       "      <td>168</td>\n",
       "      <td>149</td>\n",
       "      <td>134</td>\n",
       "      <td>128</td>\n",
       "      <td>137</td>\n",
       "      <td>137</td>\n",
       "      <td>131</td>\n",
       "      <td>127</td>\n",
       "    </tr>\n",
       "    <tr>\n",
       "      <th>1</th>\n",
       "      <td>224</td>\n",
       "      <td>222</td>\n",
       "      <td>216</td>\n",
       "      <td>232</td>\n",
       "      <td>228</td>\n",
       "      <td>75</td>\n",
       "      <td>85</td>\n",
       "      <td>80</td>\n",
       "      <td>182</td>\n",
       "      <td>185</td>\n",
       "      <td>...</td>\n",
       "      <td>120</td>\n",
       "      <td>116</td>\n",
       "      <td>107</td>\n",
       "      <td>110</td>\n",
       "      <td>108</td>\n",
       "      <td>156</td>\n",
       "      <td>169</td>\n",
       "      <td>141</td>\n",
       "      <td>125</td>\n",
       "      <td>172</td>\n",
       "    </tr>\n",
       "    <tr>\n",
       "      <th>2</th>\n",
       "      <td>108</td>\n",
       "      <td>81</td>\n",
       "      <td>97</td>\n",
       "      <td>84</td>\n",
       "      <td>102</td>\n",
       "      <td>120</td>\n",
       "      <td>108</td>\n",
       "      <td>106</td>\n",
       "      <td>140</td>\n",
       "      <td>128</td>\n",
       "      <td>...</td>\n",
       "      <td>38</td>\n",
       "      <td>44</td>\n",
       "      <td>27</td>\n",
       "      <td>26</td>\n",
       "      <td>26</td>\n",
       "      <td>27</td>\n",
       "      <td>27</td>\n",
       "      <td>31</td>\n",
       "      <td>36</td>\n",
       "      <td>40</td>\n",
       "    </tr>\n",
       "    <tr>\n",
       "      <th>3</th>\n",
       "      <td>26</td>\n",
       "      <td>25</td>\n",
       "      <td>26</td>\n",
       "      <td>29</td>\n",
       "      <td>32</td>\n",
       "      <td>35</td>\n",
       "      <td>37</td>\n",
       "      <td>38</td>\n",
       "      <td>38</td>\n",
       "      <td>40</td>\n",
       "      <td>...</td>\n",
       "      <td>18</td>\n",
       "      <td>16</td>\n",
       "      <td>15</td>\n",
       "      <td>16</td>\n",
       "      <td>21</td>\n",
       "      <td>18</td>\n",
       "      <td>24</td>\n",
       "      <td>16</td>\n",
       "      <td>20</td>\n",
       "      <td>23</td>\n",
       "    </tr>\n",
       "    <tr>\n",
       "      <th>4</th>\n",
       "      <td>20</td>\n",
       "      <td>21</td>\n",
       "      <td>36</td>\n",
       "      <td>45</td>\n",
       "      <td>46</td>\n",
       "      <td>45</td>\n",
       "      <td>40</td>\n",
       "      <td>42</td>\n",
       "      <td>37</td>\n",
       "      <td>56</td>\n",
       "      <td>...</td>\n",
       "      <td>26</td>\n",
       "      <td>42</td>\n",
       "      <td>48</td>\n",
       "      <td>42</td>\n",
       "      <td>26</td>\n",
       "      <td>25</td>\n",
       "      <td>31</td>\n",
       "      <td>39</td>\n",
       "      <td>27</td>\n",
       "      <td>35</td>\n",
       "    </tr>\n",
       "    <tr>\n",
       "      <th>...</th>\n",
       "      <td>...</td>\n",
       "      <td>...</td>\n",
       "      <td>...</td>\n",
       "      <td>...</td>\n",
       "      <td>...</td>\n",
       "      <td>...</td>\n",
       "      <td>...</td>\n",
       "      <td>...</td>\n",
       "      <td>...</td>\n",
       "      <td>...</td>\n",
       "      <td>...</td>\n",
       "      <td>...</td>\n",
       "      <td>...</td>\n",
       "      <td>...</td>\n",
       "      <td>...</td>\n",
       "      <td>...</td>\n",
       "      <td>...</td>\n",
       "      <td>...</td>\n",
       "      <td>...</td>\n",
       "      <td>...</td>\n",
       "      <td>...</td>\n",
       "    </tr>\n",
       "    <tr>\n",
       "      <th>3665</th>\n",
       "      <td>212</td>\n",
       "      <td>189</td>\n",
       "      <td>186</td>\n",
       "      <td>212</td>\n",
       "      <td>47</td>\n",
       "      <td>82</td>\n",
       "      <td>116</td>\n",
       "      <td>131</td>\n",
       "      <td>82</td>\n",
       "      <td>79</td>\n",
       "      <td>...</td>\n",
       "      <td>83</td>\n",
       "      <td>103</td>\n",
       "      <td>114</td>\n",
       "      <td>40</td>\n",
       "      <td>7</td>\n",
       "      <td>30</td>\n",
       "      <td>30</td>\n",
       "      <td>86</td>\n",
       "      <td>194</td>\n",
       "      <td>215</td>\n",
       "    </tr>\n",
       "    <tr>\n",
       "      <th>3666</th>\n",
       "      <td>135</td>\n",
       "      <td>126</td>\n",
       "      <td>129</td>\n",
       "      <td>131</td>\n",
       "      <td>119</td>\n",
       "      <td>141</td>\n",
       "      <td>135</td>\n",
       "      <td>128</td>\n",
       "      <td>132</td>\n",
       "      <td>136</td>\n",
       "      <td>...</td>\n",
       "      <td>48</td>\n",
       "      <td>53</td>\n",
       "      <td>60</td>\n",
       "      <td>58</td>\n",
       "      <td>54</td>\n",
       "      <td>41</td>\n",
       "      <td>48</td>\n",
       "      <td>84</td>\n",
       "      <td>132</td>\n",
       "      <td>120</td>\n",
       "    </tr>\n",
       "    <tr>\n",
       "      <th>3667</th>\n",
       "      <td>88</td>\n",
       "      <td>72</td>\n",
       "      <td>78</td>\n",
       "      <td>97</td>\n",
       "      <td>57</td>\n",
       "      <td>77</td>\n",
       "      <td>91</td>\n",
       "      <td>79</td>\n",
       "      <td>46</td>\n",
       "      <td>77</td>\n",
       "      <td>...</td>\n",
       "      <td>83</td>\n",
       "      <td>71</td>\n",
       "      <td>81</td>\n",
       "      <td>89</td>\n",
       "      <td>91</td>\n",
       "      <td>91</td>\n",
       "      <td>87</td>\n",
       "      <td>103</td>\n",
       "      <td>80</td>\n",
       "      <td>80</td>\n",
       "    </tr>\n",
       "    <tr>\n",
       "      <th>3668</th>\n",
       "      <td>157</td>\n",
       "      <td>189</td>\n",
       "      <td>169</td>\n",
       "      <td>132</td>\n",
       "      <td>174</td>\n",
       "      <td>162</td>\n",
       "      <td>185</td>\n",
       "      <td>174</td>\n",
       "      <td>122</td>\n",
       "      <td>160</td>\n",
       "      <td>...</td>\n",
       "      <td>57</td>\n",
       "      <td>152</td>\n",
       "      <td>193</td>\n",
       "      <td>74</td>\n",
       "      <td>23</td>\n",
       "      <td>18</td>\n",
       "      <td>8</td>\n",
       "      <td>12</td>\n",
       "      <td>19</td>\n",
       "      <td>45</td>\n",
       "    </tr>\n",
       "    <tr>\n",
       "      <th>3669</th>\n",
       "      <td>49</td>\n",
       "      <td>62</td>\n",
       "      <td>118</td>\n",
       "      <td>122</td>\n",
       "      <td>75</td>\n",
       "      <td>164</td>\n",
       "      <td>127</td>\n",
       "      <td>98</td>\n",
       "      <td>74</td>\n",
       "      <td>78</td>\n",
       "      <td>...</td>\n",
       "      <td>98</td>\n",
       "      <td>146</td>\n",
       "      <td>80</td>\n",
       "      <td>45</td>\n",
       "      <td>63</td>\n",
       "      <td>47</td>\n",
       "      <td>91</td>\n",
       "      <td>56</td>\n",
       "      <td>76</td>\n",
       "      <td>57</td>\n",
       "    </tr>\n",
       "  </tbody>\n",
       "</table>\n",
       "<p>3670 rows × 2500 columns</p>\n",
       "</div>"
      ],
      "text/plain": [
       "      0     1     2     3     4     5     6     7     8     9     ...  2490  \\\n",
       "0      143   149   160   169   167   167   145   144   144   159  ...   171   \n",
       "1      224   222   216   232   228    75    85    80   182   185  ...   120   \n",
       "2      108    81    97    84   102   120   108   106   140   128  ...    38   \n",
       "3       26    25    26    29    32    35    37    38    38    40  ...    18   \n",
       "4       20    21    36    45    46    45    40    42    37    56  ...    26   \n",
       "...    ...   ...   ...   ...   ...   ...   ...   ...   ...   ...  ...   ...   \n",
       "3665   212   189   186   212    47    82   116   131    82    79  ...    83   \n",
       "3666   135   126   129   131   119   141   135   128   132   136  ...    48   \n",
       "3667    88    72    78    97    57    77    91    79    46    77  ...    83   \n",
       "3668   157   189   169   132   174   162   185   174   122   160  ...    57   \n",
       "3669    49    62   118   122    75   164   127    98    74    78  ...    98   \n",
       "\n",
       "      2491  2492  2493  2494  2495  2496  2497  2498  2499  \n",
       "0      174   168   149   134   128   137   137   131   127  \n",
       "1      116   107   110   108   156   169   141   125   172  \n",
       "2       44    27    26    26    27    27    31    36    40  \n",
       "3       16    15    16    21    18    24    16    20    23  \n",
       "4       42    48    42    26    25    31    39    27    35  \n",
       "...    ...   ...   ...   ...   ...   ...   ...   ...   ...  \n",
       "3665   103   114    40     7    30    30    86   194   215  \n",
       "3666    53    60    58    54    41    48    84   132   120  \n",
       "3667    71    81    89    91    91    87   103    80    80  \n",
       "3668   152   193    74    23    18     8    12    19    45  \n",
       "3669   146    80    45    63    47    91    56    76    57  \n",
       "\n",
       "[3670 rows x 2500 columns]"
      ]
     },
     "execution_count": 22,
     "metadata": {},
     "output_type": "execute_result"
    }
   ],
   "source": [
    "final_data"
   ]
  },
  {
   "cell_type": "code",
   "execution_count": 23,
   "id": "f25881c3-5775-4ded-a200-9d0dabc9e7f0",
   "metadata": {},
   "outputs": [],
   "source": [
    "import numpy as np"
   ]
  },
  {
   "cell_type": "code",
   "execution_count": 24,
   "id": "66813004-b4cc-49bb-b053-11beb459be90",
   "metadata": {},
   "outputs": [
    {
     "data": {
      "text/html": [
       "<div>\n",
       "<style scoped>\n",
       "    .dataframe tbody tr th:only-of-type {\n",
       "        vertical-align: middle;\n",
       "    }\n",
       "\n",
       "    .dataframe tbody tr th {\n",
       "        vertical-align: top;\n",
       "    }\n",
       "\n",
       "    .dataframe thead th {\n",
       "        text-align: right;\n",
       "    }\n",
       "</style>\n",
       "<table border=\"1\" class=\"dataframe\">\n",
       "  <thead>\n",
       "    <tr style=\"text-align: right;\">\n",
       "      <th></th>\n",
       "      <th>0</th>\n",
       "      <th>1</th>\n",
       "      <th>2</th>\n",
       "      <th>3</th>\n",
       "      <th>4</th>\n",
       "      <th>5</th>\n",
       "      <th>6</th>\n",
       "      <th>7</th>\n",
       "      <th>8</th>\n",
       "      <th>9</th>\n",
       "      <th>...</th>\n",
       "      <th>2490</th>\n",
       "      <th>2491</th>\n",
       "      <th>2492</th>\n",
       "      <th>2493</th>\n",
       "      <th>2494</th>\n",
       "      <th>2495</th>\n",
       "      <th>2496</th>\n",
       "      <th>2497</th>\n",
       "      <th>2498</th>\n",
       "      <th>2499</th>\n",
       "    </tr>\n",
       "  </thead>\n",
       "  <tbody>\n",
       "    <tr>\n",
       "      <th>0</th>\n",
       "      <td>143</td>\n",
       "      <td>149</td>\n",
       "      <td>160</td>\n",
       "      <td>169</td>\n",
       "      <td>167</td>\n",
       "      <td>167</td>\n",
       "      <td>145</td>\n",
       "      <td>144</td>\n",
       "      <td>144</td>\n",
       "      <td>159</td>\n",
       "      <td>...</td>\n",
       "      <td>171</td>\n",
       "      <td>174</td>\n",
       "      <td>168</td>\n",
       "      <td>149</td>\n",
       "      <td>134</td>\n",
       "      <td>128</td>\n",
       "      <td>137</td>\n",
       "      <td>137</td>\n",
       "      <td>131</td>\n",
       "      <td>127</td>\n",
       "    </tr>\n",
       "    <tr>\n",
       "      <th>1</th>\n",
       "      <td>224</td>\n",
       "      <td>222</td>\n",
       "      <td>216</td>\n",
       "      <td>232</td>\n",
       "      <td>228</td>\n",
       "      <td>75</td>\n",
       "      <td>85</td>\n",
       "      <td>80</td>\n",
       "      <td>182</td>\n",
       "      <td>185</td>\n",
       "      <td>...</td>\n",
       "      <td>120</td>\n",
       "      <td>116</td>\n",
       "      <td>107</td>\n",
       "      <td>110</td>\n",
       "      <td>108</td>\n",
       "      <td>156</td>\n",
       "      <td>169</td>\n",
       "      <td>141</td>\n",
       "      <td>125</td>\n",
       "      <td>172</td>\n",
       "    </tr>\n",
       "    <tr>\n",
       "      <th>2</th>\n",
       "      <td>108</td>\n",
       "      <td>81</td>\n",
       "      <td>97</td>\n",
       "      <td>84</td>\n",
       "      <td>102</td>\n",
       "      <td>120</td>\n",
       "      <td>108</td>\n",
       "      <td>106</td>\n",
       "      <td>140</td>\n",
       "      <td>128</td>\n",
       "      <td>...</td>\n",
       "      <td>38</td>\n",
       "      <td>44</td>\n",
       "      <td>27</td>\n",
       "      <td>26</td>\n",
       "      <td>26</td>\n",
       "      <td>27</td>\n",
       "      <td>27</td>\n",
       "      <td>31</td>\n",
       "      <td>36</td>\n",
       "      <td>40</td>\n",
       "    </tr>\n",
       "    <tr>\n",
       "      <th>3</th>\n",
       "      <td>26</td>\n",
       "      <td>25</td>\n",
       "      <td>26</td>\n",
       "      <td>29</td>\n",
       "      <td>32</td>\n",
       "      <td>35</td>\n",
       "      <td>37</td>\n",
       "      <td>38</td>\n",
       "      <td>38</td>\n",
       "      <td>40</td>\n",
       "      <td>...</td>\n",
       "      <td>18</td>\n",
       "      <td>16</td>\n",
       "      <td>15</td>\n",
       "      <td>16</td>\n",
       "      <td>21</td>\n",
       "      <td>18</td>\n",
       "      <td>24</td>\n",
       "      <td>16</td>\n",
       "      <td>20</td>\n",
       "      <td>23</td>\n",
       "    </tr>\n",
       "    <tr>\n",
       "      <th>4</th>\n",
       "      <td>20</td>\n",
       "      <td>21</td>\n",
       "      <td>36</td>\n",
       "      <td>45</td>\n",
       "      <td>46</td>\n",
       "      <td>45</td>\n",
       "      <td>40</td>\n",
       "      <td>42</td>\n",
       "      <td>37</td>\n",
       "      <td>56</td>\n",
       "      <td>...</td>\n",
       "      <td>26</td>\n",
       "      <td>42</td>\n",
       "      <td>48</td>\n",
       "      <td>42</td>\n",
       "      <td>26</td>\n",
       "      <td>25</td>\n",
       "      <td>31</td>\n",
       "      <td>39</td>\n",
       "      <td>27</td>\n",
       "      <td>35</td>\n",
       "    </tr>\n",
       "    <tr>\n",
       "      <th>...</th>\n",
       "      <td>...</td>\n",
       "      <td>...</td>\n",
       "      <td>...</td>\n",
       "      <td>...</td>\n",
       "      <td>...</td>\n",
       "      <td>...</td>\n",
       "      <td>...</td>\n",
       "      <td>...</td>\n",
       "      <td>...</td>\n",
       "      <td>...</td>\n",
       "      <td>...</td>\n",
       "      <td>...</td>\n",
       "      <td>...</td>\n",
       "      <td>...</td>\n",
       "      <td>...</td>\n",
       "      <td>...</td>\n",
       "      <td>...</td>\n",
       "      <td>...</td>\n",
       "      <td>...</td>\n",
       "      <td>...</td>\n",
       "      <td>...</td>\n",
       "    </tr>\n",
       "    <tr>\n",
       "      <th>3665</th>\n",
       "      <td>212</td>\n",
       "      <td>189</td>\n",
       "      <td>186</td>\n",
       "      <td>212</td>\n",
       "      <td>47</td>\n",
       "      <td>82</td>\n",
       "      <td>116</td>\n",
       "      <td>131</td>\n",
       "      <td>82</td>\n",
       "      <td>79</td>\n",
       "      <td>...</td>\n",
       "      <td>83</td>\n",
       "      <td>103</td>\n",
       "      <td>114</td>\n",
       "      <td>40</td>\n",
       "      <td>7</td>\n",
       "      <td>30</td>\n",
       "      <td>30</td>\n",
       "      <td>86</td>\n",
       "      <td>194</td>\n",
       "      <td>215</td>\n",
       "    </tr>\n",
       "    <tr>\n",
       "      <th>3666</th>\n",
       "      <td>135</td>\n",
       "      <td>126</td>\n",
       "      <td>129</td>\n",
       "      <td>131</td>\n",
       "      <td>119</td>\n",
       "      <td>141</td>\n",
       "      <td>135</td>\n",
       "      <td>128</td>\n",
       "      <td>132</td>\n",
       "      <td>136</td>\n",
       "      <td>...</td>\n",
       "      <td>48</td>\n",
       "      <td>53</td>\n",
       "      <td>60</td>\n",
       "      <td>58</td>\n",
       "      <td>54</td>\n",
       "      <td>41</td>\n",
       "      <td>48</td>\n",
       "      <td>84</td>\n",
       "      <td>132</td>\n",
       "      <td>120</td>\n",
       "    </tr>\n",
       "    <tr>\n",
       "      <th>3667</th>\n",
       "      <td>88</td>\n",
       "      <td>72</td>\n",
       "      <td>78</td>\n",
       "      <td>97</td>\n",
       "      <td>57</td>\n",
       "      <td>77</td>\n",
       "      <td>91</td>\n",
       "      <td>79</td>\n",
       "      <td>46</td>\n",
       "      <td>77</td>\n",
       "      <td>...</td>\n",
       "      <td>83</td>\n",
       "      <td>71</td>\n",
       "      <td>81</td>\n",
       "      <td>89</td>\n",
       "      <td>91</td>\n",
       "      <td>91</td>\n",
       "      <td>87</td>\n",
       "      <td>103</td>\n",
       "      <td>80</td>\n",
       "      <td>80</td>\n",
       "    </tr>\n",
       "    <tr>\n",
       "      <th>3668</th>\n",
       "      <td>157</td>\n",
       "      <td>189</td>\n",
       "      <td>169</td>\n",
       "      <td>132</td>\n",
       "      <td>174</td>\n",
       "      <td>162</td>\n",
       "      <td>185</td>\n",
       "      <td>174</td>\n",
       "      <td>122</td>\n",
       "      <td>160</td>\n",
       "      <td>...</td>\n",
       "      <td>57</td>\n",
       "      <td>152</td>\n",
       "      <td>193</td>\n",
       "      <td>74</td>\n",
       "      <td>23</td>\n",
       "      <td>18</td>\n",
       "      <td>8</td>\n",
       "      <td>12</td>\n",
       "      <td>19</td>\n",
       "      <td>45</td>\n",
       "    </tr>\n",
       "    <tr>\n",
       "      <th>3669</th>\n",
       "      <td>49</td>\n",
       "      <td>62</td>\n",
       "      <td>118</td>\n",
       "      <td>122</td>\n",
       "      <td>75</td>\n",
       "      <td>164</td>\n",
       "      <td>127</td>\n",
       "      <td>98</td>\n",
       "      <td>74</td>\n",
       "      <td>78</td>\n",
       "      <td>...</td>\n",
       "      <td>98</td>\n",
       "      <td>146</td>\n",
       "      <td>80</td>\n",
       "      <td>45</td>\n",
       "      <td>63</td>\n",
       "      <td>47</td>\n",
       "      <td>91</td>\n",
       "      <td>56</td>\n",
       "      <td>76</td>\n",
       "      <td>57</td>\n",
       "    </tr>\n",
       "  </tbody>\n",
       "</table>\n",
       "<p>3670 rows × 2500 columns</p>\n",
       "</div>"
      ],
      "text/plain": [
       "      0     1     2     3     4     5     6     7     8     9     ...  2490  \\\n",
       "0      143   149   160   169   167   167   145   144   144   159  ...   171   \n",
       "1      224   222   216   232   228    75    85    80   182   185  ...   120   \n",
       "2      108    81    97    84   102   120   108   106   140   128  ...    38   \n",
       "3       26    25    26    29    32    35    37    38    38    40  ...    18   \n",
       "4       20    21    36    45    46    45    40    42    37    56  ...    26   \n",
       "...    ...   ...   ...   ...   ...   ...   ...   ...   ...   ...  ...   ...   \n",
       "3665   212   189   186   212    47    82   116   131    82    79  ...    83   \n",
       "3666   135   126   129   131   119   141   135   128   132   136  ...    48   \n",
       "3667    88    72    78    97    57    77    91    79    46    77  ...    83   \n",
       "3668   157   189   169   132   174   162   185   174   122   160  ...    57   \n",
       "3669    49    62   118   122    75   164   127    98    74    78  ...    98   \n",
       "\n",
       "      2491  2492  2493  2494  2495  2496  2497  2498  2499  \n",
       "0      174   168   149   134   128   137   137   131   127  \n",
       "1      116   107   110   108   156   169   141   125   172  \n",
       "2       44    27    26    26    27    27    31    36    40  \n",
       "3       16    15    16    21    18    24    16    20    23  \n",
       "4       42    48    42    26    25    31    39    27    35  \n",
       "...    ...   ...   ...   ...   ...   ...   ...   ...   ...  \n",
       "3665   103   114    40     7    30    30    86   194   215  \n",
       "3666    53    60    58    54    41    48    84   132   120  \n",
       "3667    71    81    89    91    91    87   103    80    80  \n",
       "3668   152   193    74    23    18     8    12    19    45  \n",
       "3669   146    80    45    63    47    91    56    76    57  \n",
       "\n",
       "[3670 rows x 2500 columns]"
      ]
     },
     "execution_count": 24,
     "metadata": {},
     "output_type": "execute_result"
    }
   ],
   "source": [
    "final_data.astype(np.uint8)"
   ]
  },
  {
   "cell_type": "code",
   "execution_count": 25,
   "id": "8a72fa08-cae6-48aa-8574-957c2897a090",
   "metadata": {},
   "outputs": [],
   "source": [
    "final_data[\"class_label\"]=class_labels"
   ]
  },
  {
   "cell_type": "code",
   "execution_count": 26,
   "id": "33f237f9-cc77-4fc0-8d1f-24d954f89774",
   "metadata": {},
   "outputs": [
    {
     "data": {
      "text/html": [
       "<div>\n",
       "<style scoped>\n",
       "    .dataframe tbody tr th:only-of-type {\n",
       "        vertical-align: middle;\n",
       "    }\n",
       "\n",
       "    .dataframe tbody tr th {\n",
       "        vertical-align: top;\n",
       "    }\n",
       "\n",
       "    .dataframe thead th {\n",
       "        text-align: right;\n",
       "    }\n",
       "</style>\n",
       "<table border=\"1\" class=\"dataframe\">\n",
       "  <thead>\n",
       "    <tr style=\"text-align: right;\">\n",
       "      <th></th>\n",
       "      <th>0</th>\n",
       "      <th>1</th>\n",
       "      <th>2</th>\n",
       "      <th>3</th>\n",
       "      <th>4</th>\n",
       "      <th>5</th>\n",
       "      <th>6</th>\n",
       "      <th>7</th>\n",
       "      <th>8</th>\n",
       "      <th>9</th>\n",
       "      <th>...</th>\n",
       "      <th>2491</th>\n",
       "      <th>2492</th>\n",
       "      <th>2493</th>\n",
       "      <th>2494</th>\n",
       "      <th>2495</th>\n",
       "      <th>2496</th>\n",
       "      <th>2497</th>\n",
       "      <th>2498</th>\n",
       "      <th>2499</th>\n",
       "      <th>class_label</th>\n",
       "    </tr>\n",
       "  </thead>\n",
       "  <tbody>\n",
       "    <tr>\n",
       "      <th>0</th>\n",
       "      <td>143</td>\n",
       "      <td>149</td>\n",
       "      <td>160</td>\n",
       "      <td>169</td>\n",
       "      <td>167</td>\n",
       "      <td>167</td>\n",
       "      <td>145</td>\n",
       "      <td>144</td>\n",
       "      <td>144</td>\n",
       "      <td>159</td>\n",
       "      <td>...</td>\n",
       "      <td>174</td>\n",
       "      <td>168</td>\n",
       "      <td>149</td>\n",
       "      <td>134</td>\n",
       "      <td>128</td>\n",
       "      <td>137</td>\n",
       "      <td>137</td>\n",
       "      <td>131</td>\n",
       "      <td>127</td>\n",
       "      <td>daisy</td>\n",
       "    </tr>\n",
       "    <tr>\n",
       "      <th>1</th>\n",
       "      <td>224</td>\n",
       "      <td>222</td>\n",
       "      <td>216</td>\n",
       "      <td>232</td>\n",
       "      <td>228</td>\n",
       "      <td>75</td>\n",
       "      <td>85</td>\n",
       "      <td>80</td>\n",
       "      <td>182</td>\n",
       "      <td>185</td>\n",
       "      <td>...</td>\n",
       "      <td>116</td>\n",
       "      <td>107</td>\n",
       "      <td>110</td>\n",
       "      <td>108</td>\n",
       "      <td>156</td>\n",
       "      <td>169</td>\n",
       "      <td>141</td>\n",
       "      <td>125</td>\n",
       "      <td>172</td>\n",
       "      <td>daisy</td>\n",
       "    </tr>\n",
       "    <tr>\n",
       "      <th>2</th>\n",
       "      <td>108</td>\n",
       "      <td>81</td>\n",
       "      <td>97</td>\n",
       "      <td>84</td>\n",
       "      <td>102</td>\n",
       "      <td>120</td>\n",
       "      <td>108</td>\n",
       "      <td>106</td>\n",
       "      <td>140</td>\n",
       "      <td>128</td>\n",
       "      <td>...</td>\n",
       "      <td>44</td>\n",
       "      <td>27</td>\n",
       "      <td>26</td>\n",
       "      <td>26</td>\n",
       "      <td>27</td>\n",
       "      <td>27</td>\n",
       "      <td>31</td>\n",
       "      <td>36</td>\n",
       "      <td>40</td>\n",
       "      <td>daisy</td>\n",
       "    </tr>\n",
       "    <tr>\n",
       "      <th>3</th>\n",
       "      <td>26</td>\n",
       "      <td>25</td>\n",
       "      <td>26</td>\n",
       "      <td>29</td>\n",
       "      <td>32</td>\n",
       "      <td>35</td>\n",
       "      <td>37</td>\n",
       "      <td>38</td>\n",
       "      <td>38</td>\n",
       "      <td>40</td>\n",
       "      <td>...</td>\n",
       "      <td>16</td>\n",
       "      <td>15</td>\n",
       "      <td>16</td>\n",
       "      <td>21</td>\n",
       "      <td>18</td>\n",
       "      <td>24</td>\n",
       "      <td>16</td>\n",
       "      <td>20</td>\n",
       "      <td>23</td>\n",
       "      <td>daisy</td>\n",
       "    </tr>\n",
       "    <tr>\n",
       "      <th>4</th>\n",
       "      <td>20</td>\n",
       "      <td>21</td>\n",
       "      <td>36</td>\n",
       "      <td>45</td>\n",
       "      <td>46</td>\n",
       "      <td>45</td>\n",
       "      <td>40</td>\n",
       "      <td>42</td>\n",
       "      <td>37</td>\n",
       "      <td>56</td>\n",
       "      <td>...</td>\n",
       "      <td>42</td>\n",
       "      <td>48</td>\n",
       "      <td>42</td>\n",
       "      <td>26</td>\n",
       "      <td>25</td>\n",
       "      <td>31</td>\n",
       "      <td>39</td>\n",
       "      <td>27</td>\n",
       "      <td>35</td>\n",
       "      <td>daisy</td>\n",
       "    </tr>\n",
       "    <tr>\n",
       "      <th>...</th>\n",
       "      <td>...</td>\n",
       "      <td>...</td>\n",
       "      <td>...</td>\n",
       "      <td>...</td>\n",
       "      <td>...</td>\n",
       "      <td>...</td>\n",
       "      <td>...</td>\n",
       "      <td>...</td>\n",
       "      <td>...</td>\n",
       "      <td>...</td>\n",
       "      <td>...</td>\n",
       "      <td>...</td>\n",
       "      <td>...</td>\n",
       "      <td>...</td>\n",
       "      <td>...</td>\n",
       "      <td>...</td>\n",
       "      <td>...</td>\n",
       "      <td>...</td>\n",
       "      <td>...</td>\n",
       "      <td>...</td>\n",
       "      <td>...</td>\n",
       "    </tr>\n",
       "    <tr>\n",
       "      <th>3665</th>\n",
       "      <td>212</td>\n",
       "      <td>189</td>\n",
       "      <td>186</td>\n",
       "      <td>212</td>\n",
       "      <td>47</td>\n",
       "      <td>82</td>\n",
       "      <td>116</td>\n",
       "      <td>131</td>\n",
       "      <td>82</td>\n",
       "      <td>79</td>\n",
       "      <td>...</td>\n",
       "      <td>103</td>\n",
       "      <td>114</td>\n",
       "      <td>40</td>\n",
       "      <td>7</td>\n",
       "      <td>30</td>\n",
       "      <td>30</td>\n",
       "      <td>86</td>\n",
       "      <td>194</td>\n",
       "      <td>215</td>\n",
       "      <td>tulips</td>\n",
       "    </tr>\n",
       "    <tr>\n",
       "      <th>3666</th>\n",
       "      <td>135</td>\n",
       "      <td>126</td>\n",
       "      <td>129</td>\n",
       "      <td>131</td>\n",
       "      <td>119</td>\n",
       "      <td>141</td>\n",
       "      <td>135</td>\n",
       "      <td>128</td>\n",
       "      <td>132</td>\n",
       "      <td>136</td>\n",
       "      <td>...</td>\n",
       "      <td>53</td>\n",
       "      <td>60</td>\n",
       "      <td>58</td>\n",
       "      <td>54</td>\n",
       "      <td>41</td>\n",
       "      <td>48</td>\n",
       "      <td>84</td>\n",
       "      <td>132</td>\n",
       "      <td>120</td>\n",
       "      <td>tulips</td>\n",
       "    </tr>\n",
       "    <tr>\n",
       "      <th>3667</th>\n",
       "      <td>88</td>\n",
       "      <td>72</td>\n",
       "      <td>78</td>\n",
       "      <td>97</td>\n",
       "      <td>57</td>\n",
       "      <td>77</td>\n",
       "      <td>91</td>\n",
       "      <td>79</td>\n",
       "      <td>46</td>\n",
       "      <td>77</td>\n",
       "      <td>...</td>\n",
       "      <td>71</td>\n",
       "      <td>81</td>\n",
       "      <td>89</td>\n",
       "      <td>91</td>\n",
       "      <td>91</td>\n",
       "      <td>87</td>\n",
       "      <td>103</td>\n",
       "      <td>80</td>\n",
       "      <td>80</td>\n",
       "      <td>tulips</td>\n",
       "    </tr>\n",
       "    <tr>\n",
       "      <th>3668</th>\n",
       "      <td>157</td>\n",
       "      <td>189</td>\n",
       "      <td>169</td>\n",
       "      <td>132</td>\n",
       "      <td>174</td>\n",
       "      <td>162</td>\n",
       "      <td>185</td>\n",
       "      <td>174</td>\n",
       "      <td>122</td>\n",
       "      <td>160</td>\n",
       "      <td>...</td>\n",
       "      <td>152</td>\n",
       "      <td>193</td>\n",
       "      <td>74</td>\n",
       "      <td>23</td>\n",
       "      <td>18</td>\n",
       "      <td>8</td>\n",
       "      <td>12</td>\n",
       "      <td>19</td>\n",
       "      <td>45</td>\n",
       "      <td>tulips</td>\n",
       "    </tr>\n",
       "    <tr>\n",
       "      <th>3669</th>\n",
       "      <td>49</td>\n",
       "      <td>62</td>\n",
       "      <td>118</td>\n",
       "      <td>122</td>\n",
       "      <td>75</td>\n",
       "      <td>164</td>\n",
       "      <td>127</td>\n",
       "      <td>98</td>\n",
       "      <td>74</td>\n",
       "      <td>78</td>\n",
       "      <td>...</td>\n",
       "      <td>146</td>\n",
       "      <td>80</td>\n",
       "      <td>45</td>\n",
       "      <td>63</td>\n",
       "      <td>47</td>\n",
       "      <td>91</td>\n",
       "      <td>56</td>\n",
       "      <td>76</td>\n",
       "      <td>57</td>\n",
       "      <td>tulips</td>\n",
       "    </tr>\n",
       "  </tbody>\n",
       "</table>\n",
       "<p>3670 rows × 2501 columns</p>\n",
       "</div>"
      ],
      "text/plain": [
       "        0    1    2    3    4    5    6    7    8    9  ...  2491  2492  2493  \\\n",
       "0     143  149  160  169  167  167  145  144  144  159  ...   174   168   149   \n",
       "1     224  222  216  232  228   75   85   80  182  185  ...   116   107   110   \n",
       "2     108   81   97   84  102  120  108  106  140  128  ...    44    27    26   \n",
       "3      26   25   26   29   32   35   37   38   38   40  ...    16    15    16   \n",
       "4      20   21   36   45   46   45   40   42   37   56  ...    42    48    42   \n",
       "...   ...  ...  ...  ...  ...  ...  ...  ...  ...  ...  ...   ...   ...   ...   \n",
       "3665  212  189  186  212   47   82  116  131   82   79  ...   103   114    40   \n",
       "3666  135  126  129  131  119  141  135  128  132  136  ...    53    60    58   \n",
       "3667   88   72   78   97   57   77   91   79   46   77  ...    71    81    89   \n",
       "3668  157  189  169  132  174  162  185  174  122  160  ...   152   193    74   \n",
       "3669   49   62  118  122   75  164  127   98   74   78  ...   146    80    45   \n",
       "\n",
       "      2494  2495  2496  2497  2498  2499  class_label  \n",
       "0      134   128   137   137   131   127        daisy  \n",
       "1      108   156   169   141   125   172        daisy  \n",
       "2       26    27    27    31    36    40        daisy  \n",
       "3       21    18    24    16    20    23        daisy  \n",
       "4       26    25    31    39    27    35        daisy  \n",
       "...    ...   ...   ...   ...   ...   ...          ...  \n",
       "3665     7    30    30    86   194   215       tulips  \n",
       "3666    54    41    48    84   132   120       tulips  \n",
       "3667    91    91    87   103    80    80       tulips  \n",
       "3668    23    18     8    12    19    45       tulips  \n",
       "3669    63    47    91    56    76    57       tulips  \n",
       "\n",
       "[3670 rows x 2501 columns]"
      ]
     },
     "execution_count": 26,
     "metadata": {},
     "output_type": "execute_result"
    }
   ],
   "source": [
    "final_data"
   ]
  },
  {
   "cell_type": "code",
   "execution_count": 27,
   "id": "fd02ab77-1fd8-45af-949f-ee006be5ed67",
   "metadata": {},
   "outputs": [
    {
     "name": "stdout",
     "output_type": "stream",
     "text": [
      "<class 'pandas.core.frame.DataFrame'>\n",
      "RangeIndex: 3670 entries, 0 to 3669\n",
      "Columns: 2501 entries, 0 to class_label\n",
      "dtypes: object(1), uint8(2500)\n",
      "memory usage: 8.8+ MB\n"
     ]
    }
   ],
   "source": [
    "final_data.info()"
   ]
  },
  {
   "cell_type": "code",
   "execution_count": 28,
   "id": "45cd6c09-1b12-41e8-97e1-916d59a6517a",
   "metadata": {},
   "outputs": [
    {
     "ename": "ValueError",
     "evalue": "invalid literal for int() with base 10: 'daisy'",
     "output_type": "error",
     "traceback": [
      "\u001b[1;31m---------------------------------------------------------------------------\u001b[0m",
      "\u001b[1;31mValueError\u001b[0m                                Traceback (most recent call last)",
      "Cell \u001b[1;32mIn[28], line 1\u001b[0m\n\u001b[1;32m----> 1\u001b[0m final_data\u001b[38;5;241m=\u001b[39m\u001b[43mfinal_data\u001b[49m\u001b[38;5;241;43m.\u001b[39;49m\u001b[43mastype\u001b[49m\u001b[43m(\u001b[49m\u001b[43mnp\u001b[49m\u001b[38;5;241;43m.\u001b[39;49m\u001b[43muint8\u001b[49m\u001b[43m)\u001b[49m\n",
      "File \u001b[1;32m~\\AppData\\Local\\Programs\\Python\\Python312\\Lib\\site-packages\\pandas\\core\\generic.py:6643\u001b[0m, in \u001b[0;36mNDFrame.astype\u001b[1;34m(self, dtype, copy, errors)\u001b[0m\n\u001b[0;32m   6637\u001b[0m     results \u001b[38;5;241m=\u001b[39m [\n\u001b[0;32m   6638\u001b[0m         ser\u001b[38;5;241m.\u001b[39mastype(dtype, copy\u001b[38;5;241m=\u001b[39mcopy, errors\u001b[38;5;241m=\u001b[39merrors) \u001b[38;5;28;01mfor\u001b[39;00m _, ser \u001b[38;5;129;01min\u001b[39;00m \u001b[38;5;28mself\u001b[39m\u001b[38;5;241m.\u001b[39mitems()\n\u001b[0;32m   6639\u001b[0m     ]\n\u001b[0;32m   6641\u001b[0m \u001b[38;5;28;01melse\u001b[39;00m:\n\u001b[0;32m   6642\u001b[0m     \u001b[38;5;66;03m# else, only a single dtype is given\u001b[39;00m\n\u001b[1;32m-> 6643\u001b[0m     new_data \u001b[38;5;241m=\u001b[39m \u001b[38;5;28;43mself\u001b[39;49m\u001b[38;5;241;43m.\u001b[39;49m\u001b[43m_mgr\u001b[49m\u001b[38;5;241;43m.\u001b[39;49m\u001b[43mastype\u001b[49m\u001b[43m(\u001b[49m\u001b[43mdtype\u001b[49m\u001b[38;5;241;43m=\u001b[39;49m\u001b[43mdtype\u001b[49m\u001b[43m,\u001b[49m\u001b[43m \u001b[49m\u001b[43mcopy\u001b[49m\u001b[38;5;241;43m=\u001b[39;49m\u001b[43mcopy\u001b[49m\u001b[43m,\u001b[49m\u001b[43m \u001b[49m\u001b[43merrors\u001b[49m\u001b[38;5;241;43m=\u001b[39;49m\u001b[43merrors\u001b[49m\u001b[43m)\u001b[49m\n\u001b[0;32m   6644\u001b[0m     res \u001b[38;5;241m=\u001b[39m \u001b[38;5;28mself\u001b[39m\u001b[38;5;241m.\u001b[39m_constructor_from_mgr(new_data, axes\u001b[38;5;241m=\u001b[39mnew_data\u001b[38;5;241m.\u001b[39maxes)\n\u001b[0;32m   6645\u001b[0m     \u001b[38;5;28;01mreturn\u001b[39;00m res\u001b[38;5;241m.\u001b[39m__finalize__(\u001b[38;5;28mself\u001b[39m, method\u001b[38;5;241m=\u001b[39m\u001b[38;5;124m\"\u001b[39m\u001b[38;5;124mastype\u001b[39m\u001b[38;5;124m\"\u001b[39m)\n",
      "File \u001b[1;32m~\\AppData\\Local\\Programs\\Python\\Python312\\Lib\\site-packages\\pandas\\core\\internals\\managers.py:430\u001b[0m, in \u001b[0;36mBaseBlockManager.astype\u001b[1;34m(self, dtype, copy, errors)\u001b[0m\n\u001b[0;32m    427\u001b[0m \u001b[38;5;28;01melif\u001b[39;00m using_copy_on_write():\n\u001b[0;32m    428\u001b[0m     copy \u001b[38;5;241m=\u001b[39m \u001b[38;5;28;01mFalse\u001b[39;00m\n\u001b[1;32m--> 430\u001b[0m \u001b[38;5;28;01mreturn\u001b[39;00m \u001b[38;5;28;43mself\u001b[39;49m\u001b[38;5;241;43m.\u001b[39;49m\u001b[43mapply\u001b[49m\u001b[43m(\u001b[49m\n\u001b[0;32m    431\u001b[0m \u001b[43m    \u001b[49m\u001b[38;5;124;43m\"\u001b[39;49m\u001b[38;5;124;43mastype\u001b[39;49m\u001b[38;5;124;43m\"\u001b[39;49m\u001b[43m,\u001b[49m\n\u001b[0;32m    432\u001b[0m \u001b[43m    \u001b[49m\u001b[43mdtype\u001b[49m\u001b[38;5;241;43m=\u001b[39;49m\u001b[43mdtype\u001b[49m\u001b[43m,\u001b[49m\n\u001b[0;32m    433\u001b[0m \u001b[43m    \u001b[49m\u001b[43mcopy\u001b[49m\u001b[38;5;241;43m=\u001b[39;49m\u001b[43mcopy\u001b[49m\u001b[43m,\u001b[49m\n\u001b[0;32m    434\u001b[0m \u001b[43m    \u001b[49m\u001b[43merrors\u001b[49m\u001b[38;5;241;43m=\u001b[39;49m\u001b[43merrors\u001b[49m\u001b[43m,\u001b[49m\n\u001b[0;32m    435\u001b[0m \u001b[43m    \u001b[49m\u001b[43musing_cow\u001b[49m\u001b[38;5;241;43m=\u001b[39;49m\u001b[43musing_copy_on_write\u001b[49m\u001b[43m(\u001b[49m\u001b[43m)\u001b[49m\u001b[43m,\u001b[49m\n\u001b[0;32m    436\u001b[0m \u001b[43m\u001b[49m\u001b[43m)\u001b[49m\n",
      "File \u001b[1;32m~\\AppData\\Local\\Programs\\Python\\Python312\\Lib\\site-packages\\pandas\\core\\internals\\managers.py:363\u001b[0m, in \u001b[0;36mBaseBlockManager.apply\u001b[1;34m(self, f, align_keys, **kwargs)\u001b[0m\n\u001b[0;32m    361\u001b[0m         applied \u001b[38;5;241m=\u001b[39m b\u001b[38;5;241m.\u001b[39mapply(f, \u001b[38;5;241m*\u001b[39m\u001b[38;5;241m*\u001b[39mkwargs)\n\u001b[0;32m    362\u001b[0m     \u001b[38;5;28;01melse\u001b[39;00m:\n\u001b[1;32m--> 363\u001b[0m         applied \u001b[38;5;241m=\u001b[39m \u001b[38;5;28;43mgetattr\u001b[39;49m\u001b[43m(\u001b[49m\u001b[43mb\u001b[49m\u001b[43m,\u001b[49m\u001b[43m \u001b[49m\u001b[43mf\u001b[49m\u001b[43m)\u001b[49m\u001b[43m(\u001b[49m\u001b[38;5;241;43m*\u001b[39;49m\u001b[38;5;241;43m*\u001b[39;49m\u001b[43mkwargs\u001b[49m\u001b[43m)\u001b[49m\n\u001b[0;32m    364\u001b[0m     result_blocks \u001b[38;5;241m=\u001b[39m extend_blocks(applied, result_blocks)\n\u001b[0;32m    366\u001b[0m out \u001b[38;5;241m=\u001b[39m \u001b[38;5;28mtype\u001b[39m(\u001b[38;5;28mself\u001b[39m)\u001b[38;5;241m.\u001b[39mfrom_blocks(result_blocks, \u001b[38;5;28mself\u001b[39m\u001b[38;5;241m.\u001b[39maxes)\n",
      "File \u001b[1;32m~\\AppData\\Local\\Programs\\Python\\Python312\\Lib\\site-packages\\pandas\\core\\internals\\blocks.py:758\u001b[0m, in \u001b[0;36mBlock.astype\u001b[1;34m(self, dtype, copy, errors, using_cow, squeeze)\u001b[0m\n\u001b[0;32m    755\u001b[0m         \u001b[38;5;28;01mraise\u001b[39;00m \u001b[38;5;167;01mValueError\u001b[39;00m(\u001b[38;5;124m\"\u001b[39m\u001b[38;5;124mCan not squeeze with more than one column.\u001b[39m\u001b[38;5;124m\"\u001b[39m)\n\u001b[0;32m    756\u001b[0m     values \u001b[38;5;241m=\u001b[39m values[\u001b[38;5;241m0\u001b[39m, :]  \u001b[38;5;66;03m# type: ignore[call-overload]\u001b[39;00m\n\u001b[1;32m--> 758\u001b[0m new_values \u001b[38;5;241m=\u001b[39m \u001b[43mastype_array_safe\u001b[49m\u001b[43m(\u001b[49m\u001b[43mvalues\u001b[49m\u001b[43m,\u001b[49m\u001b[43m \u001b[49m\u001b[43mdtype\u001b[49m\u001b[43m,\u001b[49m\u001b[43m \u001b[49m\u001b[43mcopy\u001b[49m\u001b[38;5;241;43m=\u001b[39;49m\u001b[43mcopy\u001b[49m\u001b[43m,\u001b[49m\u001b[43m \u001b[49m\u001b[43merrors\u001b[49m\u001b[38;5;241;43m=\u001b[39;49m\u001b[43merrors\u001b[49m\u001b[43m)\u001b[49m\n\u001b[0;32m    760\u001b[0m new_values \u001b[38;5;241m=\u001b[39m maybe_coerce_values(new_values)\n\u001b[0;32m    762\u001b[0m refs \u001b[38;5;241m=\u001b[39m \u001b[38;5;28;01mNone\u001b[39;00m\n",
      "File \u001b[1;32m~\\AppData\\Local\\Programs\\Python\\Python312\\Lib\\site-packages\\pandas\\core\\dtypes\\astype.py:237\u001b[0m, in \u001b[0;36mastype_array_safe\u001b[1;34m(values, dtype, copy, errors)\u001b[0m\n\u001b[0;32m    234\u001b[0m     dtype \u001b[38;5;241m=\u001b[39m dtype\u001b[38;5;241m.\u001b[39mnumpy_dtype\n\u001b[0;32m    236\u001b[0m \u001b[38;5;28;01mtry\u001b[39;00m:\n\u001b[1;32m--> 237\u001b[0m     new_values \u001b[38;5;241m=\u001b[39m \u001b[43mastype_array\u001b[49m\u001b[43m(\u001b[49m\u001b[43mvalues\u001b[49m\u001b[43m,\u001b[49m\u001b[43m \u001b[49m\u001b[43mdtype\u001b[49m\u001b[43m,\u001b[49m\u001b[43m \u001b[49m\u001b[43mcopy\u001b[49m\u001b[38;5;241;43m=\u001b[39;49m\u001b[43mcopy\u001b[49m\u001b[43m)\u001b[49m\n\u001b[0;32m    238\u001b[0m \u001b[38;5;28;01mexcept\u001b[39;00m (\u001b[38;5;167;01mValueError\u001b[39;00m, \u001b[38;5;167;01mTypeError\u001b[39;00m):\n\u001b[0;32m    239\u001b[0m     \u001b[38;5;66;03m# e.g. _astype_nansafe can fail on object-dtype of strings\u001b[39;00m\n\u001b[0;32m    240\u001b[0m     \u001b[38;5;66;03m#  trying to convert to float\u001b[39;00m\n\u001b[0;32m    241\u001b[0m     \u001b[38;5;28;01mif\u001b[39;00m errors \u001b[38;5;241m==\u001b[39m \u001b[38;5;124m\"\u001b[39m\u001b[38;5;124mignore\u001b[39m\u001b[38;5;124m\"\u001b[39m:\n",
      "File \u001b[1;32m~\\AppData\\Local\\Programs\\Python\\Python312\\Lib\\site-packages\\pandas\\core\\dtypes\\astype.py:182\u001b[0m, in \u001b[0;36mastype_array\u001b[1;34m(values, dtype, copy)\u001b[0m\n\u001b[0;32m    179\u001b[0m     values \u001b[38;5;241m=\u001b[39m values\u001b[38;5;241m.\u001b[39mastype(dtype, copy\u001b[38;5;241m=\u001b[39mcopy)\n\u001b[0;32m    181\u001b[0m \u001b[38;5;28;01melse\u001b[39;00m:\n\u001b[1;32m--> 182\u001b[0m     values \u001b[38;5;241m=\u001b[39m \u001b[43m_astype_nansafe\u001b[49m\u001b[43m(\u001b[49m\u001b[43mvalues\u001b[49m\u001b[43m,\u001b[49m\u001b[43m \u001b[49m\u001b[43mdtype\u001b[49m\u001b[43m,\u001b[49m\u001b[43m \u001b[49m\u001b[43mcopy\u001b[49m\u001b[38;5;241;43m=\u001b[39;49m\u001b[43mcopy\u001b[49m\u001b[43m)\u001b[49m\n\u001b[0;32m    184\u001b[0m \u001b[38;5;66;03m# in pandas we don't store numpy str dtypes, so convert to object\u001b[39;00m\n\u001b[0;32m    185\u001b[0m \u001b[38;5;28;01mif\u001b[39;00m \u001b[38;5;28misinstance\u001b[39m(dtype, np\u001b[38;5;241m.\u001b[39mdtype) \u001b[38;5;129;01mand\u001b[39;00m \u001b[38;5;28missubclass\u001b[39m(values\u001b[38;5;241m.\u001b[39mdtype\u001b[38;5;241m.\u001b[39mtype, \u001b[38;5;28mstr\u001b[39m):\n",
      "File \u001b[1;32m~\\AppData\\Local\\Programs\\Python\\Python312\\Lib\\site-packages\\pandas\\core\\dtypes\\astype.py:133\u001b[0m, in \u001b[0;36m_astype_nansafe\u001b[1;34m(arr, dtype, copy, skipna)\u001b[0m\n\u001b[0;32m    129\u001b[0m     \u001b[38;5;28;01mraise\u001b[39;00m \u001b[38;5;167;01mValueError\u001b[39;00m(msg)\n\u001b[0;32m    131\u001b[0m \u001b[38;5;28;01mif\u001b[39;00m copy \u001b[38;5;129;01mor\u001b[39;00m arr\u001b[38;5;241m.\u001b[39mdtype \u001b[38;5;241m==\u001b[39m \u001b[38;5;28mobject\u001b[39m \u001b[38;5;129;01mor\u001b[39;00m dtype \u001b[38;5;241m==\u001b[39m \u001b[38;5;28mobject\u001b[39m:\n\u001b[0;32m    132\u001b[0m     \u001b[38;5;66;03m# Explicit copy, or required since NumPy can't view from / to object.\u001b[39;00m\n\u001b[1;32m--> 133\u001b[0m     \u001b[38;5;28;01mreturn\u001b[39;00m \u001b[43marr\u001b[49m\u001b[38;5;241;43m.\u001b[39;49m\u001b[43mastype\u001b[49m\u001b[43m(\u001b[49m\u001b[43mdtype\u001b[49m\u001b[43m,\u001b[49m\u001b[43m \u001b[49m\u001b[43mcopy\u001b[49m\u001b[38;5;241;43m=\u001b[39;49m\u001b[38;5;28;43;01mTrue\u001b[39;49;00m\u001b[43m)\u001b[49m\n\u001b[0;32m    135\u001b[0m \u001b[38;5;28;01mreturn\u001b[39;00m arr\u001b[38;5;241m.\u001b[39mastype(dtype, copy\u001b[38;5;241m=\u001b[39mcopy)\n",
      "\u001b[1;31mValueError\u001b[0m: invalid literal for int() with base 10: 'daisy'"
     ]
    }
   ],
   "source": [
    "final_data=final_data.astype(np.uint8)"
   ]
  },
  {
   "cell_type": "code",
   "execution_count": 29,
   "id": "10555c17-427e-43f4-a8c3-fd5e67102069",
   "metadata": {},
   "outputs": [
    {
     "name": "stdout",
     "output_type": "stream",
     "text": [
      "<class 'pandas.core.frame.DataFrame'>\n",
      "RangeIndex: 3670 entries, 0 to 3669\n",
      "Columns: 2501 entries, 0 to class_label\n",
      "dtypes: object(1), uint8(2500)\n",
      "memory usage: 8.8+ MB\n"
     ]
    }
   ],
   "source": [
    "final_data.info()"
   ]
  },
  {
   "cell_type": "markdown",
   "id": "cea50bcc-96d3-4457-8345-af72aa9a5fd0",
   "metadata": {},
   "source": [
    "# convert array to image"
   ]
  },
  {
   "cell_type": "code",
   "execution_count": null,
   "id": "a697c581-b108-40b0-b5f1-5946173a4b1b",
   "metadata": {},
   "outputs": [],
   "source": [
    "import cv2"
   ]
  },
  {
   "cell_type": "code",
   "execution_count": null,
   "id": "bd04d6a8-858a-4b48-89ae-a4753e729349",
   "metadata": {},
   "outputs": [],
   "source": [
    "import numpy as np"
   ]
  },
  {
   "cell_type": "code",
   "execution_count": null,
   "id": "666dae14-af94-4535-8d4e-50e8e8bf6d07",
   "metadata": {},
   "outputs": [],
   "source": [
    "white_img=np.full((400,500),255,dtype=np.uint8)"
   ]
  },
  {
   "cell_type": "code",
   "execution_count": null,
   "id": "7998e9e1-9854-4e51-b3e3-3efdbd287acc",
   "metadata": {},
   "outputs": [],
   "source": [
    "cv2.imwrite(r\"C:\\Users\\Lenovo\\.cache\\kagglehub\\datasets\\rahmasleam\\flowers-dataset\\versions\\1\\flower_photos\\white.jpg\",white_img)"
   ]
  },
  {
   "cell_type": "code",
   "execution_count": null,
   "id": "e4cc8007-df04-41c7-97f1-8723787ddbc8",
   "metadata": {},
   "outputs": [],
   "source": [
    "cv2.imread(r\"C:\\Users\\Lenovo\\.cache\\kagglehub\\datasets\\rahmasleam\\flowers-dataset\\versions\\1\\flower_photos\\tulips\\54895006_55b49052dc.jpg\")"
   ]
  },
  {
   "cell_type": "code",
   "execution_count": null,
   "id": "230cd3e7-48d4-4d9d-b919-b407ea0aee28",
   "metadata": {},
   "outputs": [],
   "source": [
    "img=cv2.imread(r\"C:\\Users\\Lenovo\\.cache\\kagglehub\\datasets\\rahmasleam\\flowers-dataset\\versions\\1\\flower_photos\\tulips\\54895006_55b49052dc.jpg\")"
   ]
  },
  {
   "cell_type": "code",
   "execution_count": 47,
   "id": "0fe014f4-b890-4558-9133-0a4685eb14ec",
   "metadata": {},
   "outputs": [
    {
     "data": {
      "text/plain": [
       "(333, 500)"
      ]
     },
     "execution_count": 47,
     "metadata": {},
     "output_type": "execute_result"
    }
   ],
   "source": [
    "img.shape[:-1]"
   ]
  },
  {
   "cell_type": "code",
   "execution_count": 48,
   "id": "4fbcc354-e0b1-43fb-8331-148604ee6e9a",
   "metadata": {},
   "outputs": [],
   "source": [
    "b,g,r=cv2.split(img)"
   ]
  },
  {
   "cell_type": "code",
   "execution_count": 50,
   "id": "1d1168d2-ef83-4665-8af1-0f1b4e696c0f",
   "metadata": {},
   "outputs": [],
   "source": [
    "zeros=np.zeros(img.shape[:-1],dtype=np.uint8)"
   ]
  },
  {
   "cell_type": "code",
   "execution_count": 51,
   "id": "3bad98bb-240e-4299-9fcd-635c0ae29231",
   "metadata": {},
   "outputs": [],
   "source": [
    "blue_channel=cv2.merge([b,zeros,zeros])\n",
    "green_channel=cv2.merge([zeros,g,zeros])\n",
    "red_channel=cv2.merge([zeros,zeros,r])"
   ]
  },
  {
   "cell_type": "code",
   "execution_count": null,
   "id": "4ecd52a5-0ce3-42a5-98f4-527cfa874cd0",
   "metadata": {},
   "outputs": [],
   "source": [
    "cv2.imshow(\"blue_channel\",blue_channel)\n",
    "cv2.imshow(\"green_channel\",green_channel)\n",
    "cv2.imshow(\"red_channel\",red_channel)\n",
    "cv2.imshow(\"or_img\",cv2.merge([b,g,r]))\n",
    "\n",
    "cv2.waitKey()\n",
    "cv2.destroyAllWindows()"
   ]
  },
  {
   "cell_type": "code",
   "execution_count": null,
   "id": "086499ac-45cf-43b0-a676-c3338feffdd3",
   "metadata": {},
   "outputs": [],
   "source": []
  }
 ],
 "metadata": {
  "kernelspec": {
   "display_name": "Python 3 (ipykernel)",
   "language": "python",
   "name": "python3"
  },
  "language_info": {
   "codemirror_mode": {
    "name": "ipython",
    "version": 3
   },
   "file_extension": ".py",
   "mimetype": "text/x-python",
   "name": "python",
   "nbconvert_exporter": "python",
   "pygments_lexer": "ipython3",
   "version": "3.12.5"
  }
 },
 "nbformat": 4,
 "nbformat_minor": 5
}
